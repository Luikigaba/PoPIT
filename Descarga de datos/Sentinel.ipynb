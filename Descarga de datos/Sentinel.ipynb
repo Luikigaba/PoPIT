{
 "cells": [
  {
   "cell_type": "code",
   "execution_count": 1,
   "metadata": {},
   "outputs": [],
   "source": [
    "import numpy as np\n",
    "import matplotlib.pyplot as plt\n",
    "\n",
    "from sentinelhub import WebFeatureService, BBox, CRS, DataSource,get_area_info, AwsTile, AwsTileRequest\n"
   ]
  },
  {
   "cell_type": "code",
   "execution_count": 2,
   "metadata": {},
   "outputs": [],
   "source": [
    "INSTANCE_ID = ''  # In case you put instance ID into cofniguration file you can leave this unchanged\n",
    "\n",
    "search_bbox = BBox(bbox=[-3.71,40.42,-3.688,40.40], crs=CRS.WGS84)\n",
    "search_time_interval = ('2019-03-01T00:00:00', '2019-03-15T23:59:59')"
   ]
  },
  {
   "cell_type": "code",
   "execution_count": 7,
   "metadata": {},
   "outputs": [],
   "source": [
    "infos = get_area_info(search_bbox, search_time_interval, maxcc=1.0)\n",
    "tilinfo = infos[0]"
   ]
  },
  {
   "cell_type": "code",
   "execution_count": 8,
   "metadata": {},
   "outputs": [],
   "source": [
    "aux = tile_info['properties']['productIdentifier']\n",
    "\n",
    "tile_name, time, aws_index = AwsTile.tile_id_to_tile(aux)\n",
    "                \n",
    "        bands = ['R10m/B03']\n",
    "        \n",
    "metafiles = ['tileInfo']\n",
    "\n",
    "data_folder = './AwsData'\n",
    "        \n",
    "request = AwsTileRequest(tile=tile_name, time=time, aws_index=aws_index,\n",
    "                        bands=bands, metafiles=metafiles, data_folder=data_folder,\n",
    "                        data_source=DataSource.SENTINEL2_L2A)\n",
    "\n",
    "request.save_data()\n",
    "\n",
    "data_list = request.get_data()\n",
    "\n",
    "b03, tile_info = data_list\n"
   ]
  },
  {
   "cell_type": "code",
   "execution_count": null,
   "metadata": {},
   "outputs": [],
   "source": []
  }
 ],
 "metadata": {
  "kernelspec": {
   "display_name": "Python 3",
   "language": "python",
   "name": "python3"
  },
  "language_info": {
   "codemirror_mode": {
    "name": "ipython",
    "version": 3
   },
   "file_extension": ".py",
   "mimetype": "text/x-python",
   "name": "python",
   "nbconvert_exporter": "python",
   "pygments_lexer": "ipython3",
   "version": "3.7.0"
  }
 },
 "nbformat": 4,
 "nbformat_minor": 2
}
